{
 "cells": [
  {
   "cell_type": "markdown",
   "metadata": {},
   "source": [
    "\n",
    "# Week 4: RNA-Seq and Gene expression analyses\n",
    "\n",
    "[pictures of gene in different expressions]\n",
    "\n",
    "okay not that\n",
    "\n",
    "We will analyze a single RNA-Seq dataset a number of ways:\n",
    "- Using the authors' data submitted to GEO\n",
    "- Mapping to the `mm10` mouse genome using STAR and quantifying gene expression using `featureCounts`\n",
    "- Using `kallisto` to do quasi-mapping and gene quantification\n",
    "- Using simple correlation and statistics to analyze the data and find differentially expressed genes\n",
    "\n",
    "## Reading List\n",
    "\n",
    "- Dataset: [Shalek A + Satija R, et al. \"Single-cell transcriptomics reveals bimodality in expression and splicing in immune cells.\" *Nature* (2013)](papers/Shalek 2013/Nature 2013 Shalek.pdf)\n",
    "- Transcriptome Alignment (STAR aligner): [Dobin A et al, \"STAR: ultrafast universal RNA-seq aligner\", *Bioinformatics* (2012)](papers/Dobin 2012/Bioinformatics 2012 Dobin.pdf)\n",
    "- Gene quantification (`featureCounts` program): [Liao Y, Smyth GK, Shi W. \"featureCounts: an efficient general purpose program for assigning sequence reads to genomic features.\" *Bioinformatics* (2014)](papers/Liao 2014/Bioinformatics 2014 Liao.pdf)\n",
    "- Quasi-alignment and gene quantification (`kallisto` program): [Near-optimal RNA-Seq quantification](papers/Bray 2015/2015 Bray.pdf)\n",
    "\n",
    "## Downloads\n",
    "\n",
    "- [Integrated Genome Viewer](https://www.broadinstitute.org/igv/) - For visualizing alignments on Thursday.\n",
    "\n",
    "## Plan\n",
    "\n",
    "- [Tuesday](0_alignment_expression_quantification.ipynb)\n",
    "    - RNA-Sequencing Lecture\n",
    "    - Read alignment & quantification with STAR and `featureCounts` (mini-sample only)\n",
    "    - Quasi-alignment with `kallisto` (mini-sample)\n",
    "- Thursday\n",
    "    - Viewing alignments with IGV\n",
    "    - Differential gene expression using data from GEO\n",
    "    - Downloading data from GEO\n",
    "\n",
    "## Homework\n",
    "\n",
    "\n",
    "You will work with a partner on analyzing the data from Shalek + Satija 2013. One of you will do genome alignment and then read quantification, and the other will do direct quantification via quasi-alignment. You will compare to each other's results, as well as the authors' submitted GEO data. In pairs, decide who will run STAR and who will run `kallisto` (keep in mind that each person has to explain why their results differ clearly - `kallisto` may be fewer steps but the algorithm trickier)."
   ]
  },
  {
   "cell_type": "code",
   "execution_count": null,
   "metadata": {
    "collapsed": true
   },
   "outputs": [],
   "source": []
  }
 ],
 "metadata": {
  "kernelspec": {
   "display_name": "Python 3",
   "language": "python",
   "name": "python3"
  },
  "language_info": {
   "codemirror_mode": {
    "name": "ipython",
    "version": 3
   },
   "file_extension": ".py",
   "mimetype": "text/x-python",
   "name": "python",
   "nbconvert_exporter": "python",
   "pygments_lexer": "ipython3",
   "version": "3.5.1"
  }
 },
 "nbformat": 4,
 "nbformat_minor": 0
}
